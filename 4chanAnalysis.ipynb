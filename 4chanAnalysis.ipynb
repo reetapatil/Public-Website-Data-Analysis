{
 "cells": [
  {
   "cell_type": "markdown",
   "metadata": {},
   "source": [
    "## 4chan website data analysis\n",
    "\n",
    "###### The project is divided into four parts :\n",
    "1. Extraction/Cleaning <br>\n",
    "2. Exploratory Analysis <br>\n",
    "3. Discriminative Analysis <br>\n",
    "4. Modeling <br>\n",
    "\n",
    "Following functions are defined for data preprocessing and analysis:\n",
    "1. preprocessText(sentence): Preprocess comment and replies text <br>\n",
    "2. preprocess(rawData): Preprocess data <br>\n",
    "3. getComments(threads): Extract comments from all threads <br>\n",
    "4. getReplies(threads): Extract replies to all the comments <br>\n",
    "5. plotCommonWordsWithComments(data): Find common words in comments <br>\n",
    "6. plotCommonWordsWithAllText(data): Find common words in comments and replies<br>\n",
    "7. plotCommonWords(text): This function is called by 5th and 6th function for finding and plotting most common words.\n",
    "\n",
    "Detailed description of all the functions is given in the comments section.\n",
    "\n",
    "###### Analysis Results\n",
    "The analysis are shown in the form of graphs for each channel. Deatiled analysis result are given in their respective sections."
   ]
  },
  {
   "cell_type": "code",
   "execution_count": 1,
   "metadata": {},
   "outputs": [],
   "source": [
    "import json \n",
    "import pandas as pd\n",
    "from pandas.io.json import json_normalize\n",
    "from collections import Counter\n",
    "import matplotlib\n",
    "import matplotlib.pyplot as plt\n",
    "import nltk\n",
    "import re\n",
    "import seaborn as sns\n",
    "from bs4 import BeautifulSoup\n",
    "from nltk.tokenize import RegexpTokenizer\n",
    "from nltk.stem import WordNetLemmatizer,PorterStemmer\n",
    "from nltk.corpus import stopwords\n",
    "import warnings\n",
    "warnings.filterwarnings(\"ignore\", category=UserWarning, module='bs4')\n"
   ]
  },
  {
   "cell_type": "code",
   "execution_count": 2,
   "metadata": {},
   "outputs": [],
   "source": [
    "# The function cleanses the given text by removing sepcial characters, html and stopwords. It also applies stemming and lemmatization.\n",
    "def preprocessText(sentence):\n",
    "    lemmatizer = WordNetLemmatizer()\n",
    "    stemmer = PorterStemmer()\n",
    "    sentence=str(sentence)\n",
    "    sentence = sentence.lower()\n",
    "    sentence=sentence.replace('{html}',\"\") \n",
    "    cleanr = re.compile('<.*?>')\n",
    "    cleantext = re.sub(cleanr, '', sentence)\n",
    "    rem_url=re.sub(r'http\\S+', '',cleantext)\n",
    "    rem_num = re.sub('[0-9]+', '', rem_url)\n",
    "    tokenizer = RegexpTokenizer(r'\\w+')\n",
    "    tokens = tokenizer.tokenize(rem_num)  \n",
    "    filtered_words = [w for w in tokens if len(w) > 2 if not w in stopwords.words('english')+ ['quot']]\n",
    "    stem_words=[stemmer.stem(w) for w in filtered_words]\n",
    "    lemma_words=[lemmatizer.lemmatize(w) for w in stem_words]\n",
    "    return \" \".join(filtered_words)"
   ]
  },
  {
   "cell_type": "code",
   "execution_count": 3,
   "metadata": {},
   "outputs": [],
   "source": [
    "# The function flattens the nested Json object and extracts thread information. \n",
    "# It sorts the threads based on the created time.\n",
    "# It drops unnecessary columns and comments which are null and extracts 100 most recent threads.\n",
    "def preprocess(rawData):\n",
    "    data = pd.concat([pd.DataFrame(json_normalize(x)) for x in rawData['threads']], sort=True,ignore_index=True)\n",
    "    data['time']=pd.to_datetime(data['time'])\n",
    "    data= data.sort_values(by='time', ascending=False)\n",
    "    data= data[['no','com','now','replies','last_replies','name']]\n",
    "    data = data[data['com'].notna()]\n",
    "    data['com'] = [preprocessText(text) for text in data['com'] ]\n",
    "    data.rename(columns={'no':'thread_ID',\n",
    "                          'now':'time'}, \n",
    "                 inplace=True)\n",
    "    data= data.head(100)\n",
    "    display(data.head())\n",
    "    return data\n",
    "    "
   ]
  },
  {
   "cell_type": "code",
   "execution_count": 4,
   "metadata": {},
   "outputs": [],
   "source": [
    "# The fuction returns comments from all the threads as a single paragraph.\n",
    "def getComments(threads):\n",
    "    threads['com'] = [BeautifulSoup(text).get_text() for text in threads['com'] ]\n",
    "    comments=\"\"\n",
    "    for i, j in threads.iterrows():\n",
    "        comments= comments+j['com']\n",
    "    \n",
    "    return comments\n",
    "    "
   ]
  },
  {
   "cell_type": "code",
   "execution_count": 5,
   "metadata": {},
   "outputs": [],
   "source": [
    "# The fuction extracts replies from all the threads and return the replies as a single paragraph.\n",
    "def getReplies(threads):\n",
    "    threads['last_replies']= threads['last_replies'].apply(lambda d: d if isinstance(d, list) else [])\n",
    "\n",
    "    rep= pd.concat([pd.DataFrame(json_normalize(x)) for x in threads['last_replies']], sort=True,ignore_index=True)\n",
    "    rep = rep[rep['com'].notna()]\n",
    "    rep['com'] = [BeautifulSoup(text).get_text() for text in rep['com'] ]\n",
    "    replies=\"\"\n",
    "\n",
    "    for i, j in rep.iterrows():\n",
    "        replies= replies+j['com']\n",
    "    \n",
    "    replies= preprocessText(replies)\n",
    "    return replies"
   ]
  },
  {
   "cell_type": "code",
   "execution_count": 6,
   "metadata": {},
   "outputs": [],
   "source": [
    "# The function is used by plotCommonWordsWithComments() and plotCommonWordsWithAllText() to find the most common 20 words.\n",
    "def plotCommonWords(text):\n",
    "    tokenized = nltk.word_tokenize(text)\n",
    "    # Extract nouns from the tokens.\n",
    "    nouns = [word for (word, pos) in nltk.pos_tag(tokenized) if(pos[:2] == 'NN')]\n",
    "    # Create Frequent Distribution Object for nouns.\n",
    "    cts= nltk.FreqDist(nouns)\n",
    "    # Plot 20 most common words.\n",
    "    rslt = pd.DataFrame(cts.most_common(20),\n",
    "                    columns=['Word', 'Frequency'])\n",
    "    print(rslt['Word'].tolist())\n",
    "    cts.plot(20, cumulative=False)\n"
   ]
  },
  {
   "cell_type": "code",
   "execution_count": 7,
   "metadata": {},
   "outputs": [],
   "source": [
    "# The function finds the most common 20 words from comments.\n",
    "def plotCommonWordsWithComments(data):\n",
    "    comments= getComments(data)\n",
    "    plotCommonWords(comments)\n"
   ]
  },
  {
   "cell_type": "code",
   "execution_count": 8,
   "metadata": {},
   "outputs": [],
   "source": [
    "# The function finds the most common 20 words from comments and replies.\n",
    "def plotCommonWordsWithAllText(data):\n",
    "    comments= getComments(data)\n",
    "    replies= getReplies(data)\n",
    "    text=  comments+replies\n",
    "    plotCommonWords(text)\n"
   ]
  },
  {
   "cell_type": "markdown",
   "metadata": {},
   "source": [
    "### Step 1: Cleansing/ Extraction\n",
    "##### For preprocessing the data, following steps are done:\n",
    "1. Thread information is extracted from the nested JSON Object. <br>\n",
    "2. Dataframe is sorted based on the created time of thread.<br>\n",
    "3. Drop unnecessary columns like sub, filename, w, h etc. <br>\n",
    "4. Renaming few columns. <br>\n",
    "5. Cleansing of comments. <br>\n",
    "6. Extracting 100 most recent threads. <br>\n"
   ]
  },
  {
   "cell_type": "code",
   "execution_count": 9,
   "metadata": {},
   "outputs": [
    {
     "name": "stdout",
     "output_type": "stream",
     "text": [
      " Technology Data\n"
     ]
    },
    {
     "data": {
      "text/html": [
       "<div>\n",
       "<style scoped>\n",
       "    .dataframe tbody tr th:only-of-type {\n",
       "        vertical-align: middle;\n",
       "    }\n",
       "\n",
       "    .dataframe tbody tr th {\n",
       "        vertical-align: top;\n",
       "    }\n",
       "\n",
       "    .dataframe thead th {\n",
       "        text-align: right;\n",
       "    }\n",
       "</style>\n",
       "<table border=\"1\" class=\"dataframe\">\n",
       "  <thead>\n",
       "    <tr style=\"text-align: right;\">\n",
       "      <th></th>\n",
       "      <th>thread_ID</th>\n",
       "      <th>com</th>\n",
       "      <th>time</th>\n",
       "      <th>replies</th>\n",
       "      <th>last_replies</th>\n",
       "      <th>name</th>\n",
       "    </tr>\n",
       "  </thead>\n",
       "  <tbody>\n",
       "    <tr>\n",
       "      <th>4</th>\n",
       "      <td>75802972</td>\n",
       "      <td>websites nowadays look giant hero image carous...</td>\n",
       "      <td>05/07/20(Thu)21:48:29</td>\n",
       "      <td>1</td>\n",
       "      <td>[{'no': 75802993, 'now': '05/07/20(Thu)21:50:2...</td>\n",
       "      <td>Anonymous</td>\n",
       "    </tr>\n",
       "    <tr>\n",
       "      <th>27</th>\n",
       "      <td>75802922</td>\n",
       "      <td>portable electronics battery component far sho...</td>\n",
       "      <td>05/07/20(Thu)21:44:30</td>\n",
       "      <td>1</td>\n",
       "      <td>[{'no': 75802946, 'now': '05/07/20(Thu)21:46:1...</td>\n",
       "      <td>Anonymous</td>\n",
       "    </tr>\n",
       "    <tr>\n",
       "      <th>8</th>\n",
       "      <td>75802908</td>\n",
       "      <td>prove brainlets ents</td>\n",
       "      <td>05/07/20(Thu)21:43:15</td>\n",
       "      <td>8</td>\n",
       "      <td>[{'no': 75802971, 'now': '05/07/20(Thu)21:48:2...</td>\n",
       "      <td>Anonymous</td>\n",
       "    </tr>\n",
       "    <tr>\n",
       "      <th>41</th>\n",
       "      <td>75802864</td>\n",
       "      <td>buy learn make video game bots</td>\n",
       "      <td>05/07/20(Thu)21:39:07</td>\n",
       "      <td>0</td>\n",
       "      <td>NaN</td>\n",
       "      <td>Anonymous</td>\n",
       "    </tr>\n",
       "    <tr>\n",
       "      <th>19</th>\n",
       "      <td>75802824</td>\n",
       "      <td>ready first non shit monitor since</td>\n",
       "      <td>05/07/20(Thu)21:36:32</td>\n",
       "      <td>2</td>\n",
       "      <td>[{'no': 75802938, 'now': '05/07/20(Thu)21:45:4...</td>\n",
       "      <td>Anonymous</td>\n",
       "    </tr>\n",
       "  </tbody>\n",
       "</table>\n",
       "</div>"
      ],
      "text/plain": [
       "    thread_ID                                                com  \\\n",
       "4    75802972  websites nowadays look giant hero image carous...   \n",
       "27   75802922  portable electronics battery component far sho...   \n",
       "8    75802908                               prove brainlets ents   \n",
       "41   75802864                     buy learn make video game bots   \n",
       "19   75802824                 ready first non shit monitor since   \n",
       "\n",
       "                     time  replies  \\\n",
       "4   05/07/20(Thu)21:48:29        1   \n",
       "27  05/07/20(Thu)21:44:30        1   \n",
       "8   05/07/20(Thu)21:43:15        8   \n",
       "41  05/07/20(Thu)21:39:07        0   \n",
       "19  05/07/20(Thu)21:36:32        2   \n",
       "\n",
       "                                         last_replies       name  \n",
       "4   [{'no': 75802993, 'now': '05/07/20(Thu)21:50:2...  Anonymous  \n",
       "27  [{'no': 75802946, 'now': '05/07/20(Thu)21:46:1...  Anonymous  \n",
       "8   [{'no': 75802971, 'now': '05/07/20(Thu)21:48:2...  Anonymous  \n",
       "41                                                NaN  Anonymous  \n",
       "19  [{'no': 75802938, 'now': '05/07/20(Thu)21:45:4...  Anonymous  "
      ]
     },
     "metadata": {},
     "output_type": "display_data"
    },
    {
     "name": "stdout",
     "output_type": "stream",
     "text": [
      " TV & Film Data\n"
     ]
    },
    {
     "data": {
      "text/html": [
       "<div>\n",
       "<style scoped>\n",
       "    .dataframe tbody tr th:only-of-type {\n",
       "        vertical-align: middle;\n",
       "    }\n",
       "\n",
       "    .dataframe tbody tr th {\n",
       "        vertical-align: top;\n",
       "    }\n",
       "\n",
       "    .dataframe thead th {\n",
       "        text-align: right;\n",
       "    }\n",
       "</style>\n",
       "<table border=\"1\" class=\"dataframe\">\n",
       "  <thead>\n",
       "    <tr style=\"text-align: right;\">\n",
       "      <th></th>\n",
       "      <th>thread_ID</th>\n",
       "      <th>com</th>\n",
       "      <th>time</th>\n",
       "      <th>replies</th>\n",
       "      <th>last_replies</th>\n",
       "      <th>name</th>\n",
       "    </tr>\n",
       "  </thead>\n",
       "  <tbody>\n",
       "    <tr>\n",
       "      <th>5</th>\n",
       "      <td>133419112</td>\n",
       "      <td>star wars</td>\n",
       "      <td>05/08/20(Fri)00:57:07</td>\n",
       "      <td>1</td>\n",
       "      <td>[{'no': 133419146, 'now': '05/08/20(Fri)00:58:...</td>\n",
       "      <td>Anonymous</td>\n",
       "    </tr>\n",
       "    <tr>\n",
       "      <th>4</th>\n",
       "      <td>133419084</td>\n",
       "      <td>gameboy chocolate cake</td>\n",
       "      <td>05/08/20(Fri)00:56:04</td>\n",
       "      <td>3</td>\n",
       "      <td>[{'no': 133419124, 'now': '05/08/20(Fri)00:57:...</td>\n",
       "      <td>Anonymous</td>\n",
       "    </tr>\n",
       "    <tr>\n",
       "      <th>9</th>\n",
       "      <td>133419042</td>\n",
       "      <td>cynical</td>\n",
       "      <td>05/08/20(Fri)00:54:52</td>\n",
       "      <td>2</td>\n",
       "      <td>[{'no': 133419063, 'now': '05/08/20(Fri)00:55:...</td>\n",
       "      <td>Anonymous</td>\n",
       "    </tr>\n",
       "    <tr>\n",
       "      <th>59</th>\n",
       "      <td>133418988</td>\n",
       "      <td>uncertain times</td>\n",
       "      <td>05/08/20(Fri)00:53:20</td>\n",
       "      <td>0</td>\n",
       "      <td>NaN</td>\n",
       "      <td>Anonymous</td>\n",
       "    </tr>\n",
       "    <tr>\n",
       "      <th>68</th>\n",
       "      <td>133418920</td>\n",
       "      <td>people mean soul soulless</td>\n",
       "      <td>05/08/20(Fri)00:51:36</td>\n",
       "      <td>0</td>\n",
       "      <td>NaN</td>\n",
       "      <td>Anonymous</td>\n",
       "    </tr>\n",
       "  </tbody>\n",
       "</table>\n",
       "</div>"
      ],
      "text/plain": [
       "    thread_ID                        com                   time  replies  \\\n",
       "5   133419112                  star wars  05/08/20(Fri)00:57:07        1   \n",
       "4   133419084     gameboy chocolate cake  05/08/20(Fri)00:56:04        3   \n",
       "9   133419042                    cynical  05/08/20(Fri)00:54:52        2   \n",
       "59  133418988            uncertain times  05/08/20(Fri)00:53:20        0   \n",
       "68  133418920  people mean soul soulless  05/08/20(Fri)00:51:36        0   \n",
       "\n",
       "                                         last_replies       name  \n",
       "5   [{'no': 133419146, 'now': '05/08/20(Fri)00:58:...  Anonymous  \n",
       "4   [{'no': 133419124, 'now': '05/08/20(Fri)00:57:...  Anonymous  \n",
       "9   [{'no': 133419063, 'now': '05/08/20(Fri)00:55:...  Anonymous  \n",
       "59                                                NaN  Anonymous  \n",
       "68                                                NaN  Anonymous  "
      ]
     },
     "metadata": {},
     "output_type": "display_data"
    },
    {
     "name": "stdout",
     "output_type": "stream",
     "text": [
      " Food & Cooking Data\n"
     ]
    },
    {
     "data": {
      "text/html": [
       "<div>\n",
       "<style scoped>\n",
       "    .dataframe tbody tr th:only-of-type {\n",
       "        vertical-align: middle;\n",
       "    }\n",
       "\n",
       "    .dataframe tbody tr th {\n",
       "        vertical-align: top;\n",
       "    }\n",
       "\n",
       "    .dataframe thead th {\n",
       "        text-align: right;\n",
       "    }\n",
       "</style>\n",
       "<table border=\"1\" class=\"dataframe\">\n",
       "  <thead>\n",
       "    <tr style=\"text-align: right;\">\n",
       "      <th></th>\n",
       "      <th>thread_ID</th>\n",
       "      <th>com</th>\n",
       "      <th>time</th>\n",
       "      <th>replies</th>\n",
       "      <th>last_replies</th>\n",
       "      <th>name</th>\n",
       "    </tr>\n",
       "  </thead>\n",
       "  <tbody>\n",
       "    <tr>\n",
       "      <th>0</th>\n",
       "      <td>14060735</td>\n",
       "      <td>ourguy</td>\n",
       "      <td>05/09/20(Sat)20:42:18</td>\n",
       "      <td>1</td>\n",
       "      <td>[{'no': 14060741, 'now': '05/09/20(Sat)20:43:1...</td>\n",
       "      <td>Anonymous</td>\n",
       "    </tr>\n",
       "    <tr>\n",
       "      <th>1</th>\n",
       "      <td>14060733</td>\n",
       "      <td>quarantine made delivery places full retard</td>\n",
       "      <td>05/09/20(Sat)20:41:56</td>\n",
       "      <td>1</td>\n",
       "      <td>[{'no': 14060740, 'now': '05/09/20(Sat)20:42:5...</td>\n",
       "      <td>Anonymous</td>\n",
       "    </tr>\n",
       "    <tr>\n",
       "      <th>16</th>\n",
       "      <td>14060706</td>\n",
       "      <td>never eaten steak didnt enjoy even raw well do...</td>\n",
       "      <td>05/09/20(Sat)20:35:10</td>\n",
       "      <td>1</td>\n",
       "      <td>[{'no': 14060715, 'now': '05/09/20(Sat)20:37:4...</td>\n",
       "      <td>Anonymous</td>\n",
       "    </tr>\n",
       "    <tr>\n",
       "      <th>34</th>\n",
       "      <td>14060658</td>\n",
       "      <td>subway headquarters town live ask anything</td>\n",
       "      <td>05/09/20(Sat)20:17:46</td>\n",
       "      <td>2</td>\n",
       "      <td>[{'no': 14060662, 'now': '05/09/20(Sat)20:19:0...</td>\n",
       "      <td>Anonymous</td>\n",
       "    </tr>\n",
       "    <tr>\n",
       "      <th>29</th>\n",
       "      <td>14060652</td>\n",
       "      <td>great debate</td>\n",
       "      <td>05/09/20(Sat)20:16:40</td>\n",
       "      <td>7</td>\n",
       "      <td>[{'no': 14060673, 'now': '05/09/20(Sat)20:24:0...</td>\n",
       "      <td>Anonymous</td>\n",
       "    </tr>\n",
       "  </tbody>\n",
       "</table>\n",
       "</div>"
      ],
      "text/plain": [
       "    thread_ID                                                com  \\\n",
       "0    14060735                                             ourguy   \n",
       "1    14060733        quarantine made delivery places full retard   \n",
       "16   14060706  never eaten steak didnt enjoy even raw well do...   \n",
       "34   14060658         subway headquarters town live ask anything   \n",
       "29   14060652                                       great debate   \n",
       "\n",
       "                     time  replies  \\\n",
       "0   05/09/20(Sat)20:42:18        1   \n",
       "1   05/09/20(Sat)20:41:56        1   \n",
       "16  05/09/20(Sat)20:35:10        1   \n",
       "34  05/09/20(Sat)20:17:46        2   \n",
       "29  05/09/20(Sat)20:16:40        7   \n",
       "\n",
       "                                         last_replies       name  \n",
       "0   [{'no': 14060741, 'now': '05/09/20(Sat)20:43:1...  Anonymous  \n",
       "1   [{'no': 14060740, 'now': '05/09/20(Sat)20:42:5...  Anonymous  \n",
       "16  [{'no': 14060715, 'now': '05/09/20(Sat)20:37:4...  Anonymous  \n",
       "34  [{'no': 14060662, 'now': '05/09/20(Sat)20:19:0...  Anonymous  \n",
       "29  [{'no': 14060673, 'now': '05/09/20(Sat)20:24:0...  Anonymous  "
      ]
     },
     "metadata": {},
     "output_type": "display_data"
    },
    {
     "name": "stdout",
     "output_type": "stream",
     "text": [
      " Literature Data\n"
     ]
    },
    {
     "data": {
      "text/html": [
       "<div>\n",
       "<style scoped>\n",
       "    .dataframe tbody tr th:only-of-type {\n",
       "        vertical-align: middle;\n",
       "    }\n",
       "\n",
       "    .dataframe tbody tr th {\n",
       "        vertical-align: top;\n",
       "    }\n",
       "\n",
       "    .dataframe thead th {\n",
       "        text-align: right;\n",
       "    }\n",
       "</style>\n",
       "<table border=\"1\" class=\"dataframe\">\n",
       "  <thead>\n",
       "    <tr style=\"text-align: right;\">\n",
       "      <th></th>\n",
       "      <th>thread_ID</th>\n",
       "      <th>com</th>\n",
       "      <th>time</th>\n",
       "      <th>replies</th>\n",
       "      <th>last_replies</th>\n",
       "      <th>name</th>\n",
       "    </tr>\n",
       "  </thead>\n",
       "  <tbody>\n",
       "    <tr>\n",
       "      <th>3</th>\n",
       "      <td>15321150</td>\n",
       "      <td>fantasy itch finishing malazan book fallen nar...</td>\n",
       "      <td>05/09/20(Sat)20:44:10</td>\n",
       "      <td>0</td>\n",
       "      <td>NaN</td>\n",
       "      <td>Anonymous</td>\n",
       "    </tr>\n",
       "    <tr>\n",
       "      <th>4</th>\n",
       "      <td>15321143</td>\n",
       "      <td>literature explores suicide</td>\n",
       "      <td>05/09/20(Sat)20:43:18</td>\n",
       "      <td>1</td>\n",
       "      <td>[{'no': 15321149, 'now': '05/09/20(Sat)20:44:1...</td>\n",
       "      <td>Anonymous</td>\n",
       "    </tr>\n",
       "    <tr>\n",
       "      <th>27</th>\n",
       "      <td>15321096</td>\n",
       "      <td>eliot reads love song alfred prufrock</td>\n",
       "      <td>05/09/20(Sat)20:36:38</td>\n",
       "      <td>1</td>\n",
       "      <td>[{'no': 15321110, 'now': '05/09/20(Sat)20:39:1...</td>\n",
       "      <td>Anonymous</td>\n",
       "    </tr>\n",
       "    <tr>\n",
       "      <th>32</th>\n",
       "      <td>15321090</td>\n",
       "      <td>christian literature fiction read</td>\n",
       "      <td>05/09/20(Sat)20:36:02</td>\n",
       "      <td>0</td>\n",
       "      <td>NaN</td>\n",
       "      <td>Anonymous</td>\n",
       "    </tr>\n",
       "    <tr>\n",
       "      <th>35</th>\n",
       "      <td>15321076</td>\n",
       "      <td>people reading based deleuze</td>\n",
       "      <td>05/09/20(Sat)20:34:28</td>\n",
       "      <td>0</td>\n",
       "      <td>NaN</td>\n",
       "      <td>Anonymous</td>\n",
       "    </tr>\n",
       "  </tbody>\n",
       "</table>\n",
       "</div>"
      ],
      "text/plain": [
       "    thread_ID                                                com  \\\n",
       "3    15321150  fantasy itch finishing malazan book fallen nar...   \n",
       "4    15321143                        literature explores suicide   \n",
       "27   15321096              eliot reads love song alfred prufrock   \n",
       "32   15321090                  christian literature fiction read   \n",
       "35   15321076                       people reading based deleuze   \n",
       "\n",
       "                     time  replies  \\\n",
       "3   05/09/20(Sat)20:44:10        0   \n",
       "4   05/09/20(Sat)20:43:18        1   \n",
       "27  05/09/20(Sat)20:36:38        1   \n",
       "32  05/09/20(Sat)20:36:02        0   \n",
       "35  05/09/20(Sat)20:34:28        0   \n",
       "\n",
       "                                         last_replies       name  \n",
       "3                                                 NaN  Anonymous  \n",
       "4   [{'no': 15321149, 'now': '05/09/20(Sat)20:44:1...  Anonymous  \n",
       "27  [{'no': 15321110, 'now': '05/09/20(Sat)20:39:1...  Anonymous  \n",
       "32                                                NaN  Anonymous  \n",
       "35                                                NaN  Anonymous  "
      ]
     },
     "metadata": {},
     "output_type": "display_data"
    }
   ],
   "source": [
    "print(\" Technology Data\")\n",
    "techData= pd.read_json('D:/Data/catalogTechnology.json')\n",
    "techData= preprocess(techData)\n",
    "\n",
    "print(\" TV & Film Data\")\n",
    "tvData= pd.read_json('D:/Data/catalogTV.json')\n",
    "tvData= preprocess(tvData)\n",
    "\n",
    "print(\" Food & Cooking Data\")\n",
    "foodData= pd.read_json('D:/Data/catalogFood.json')\n",
    "foodData= preprocess(foodData)\n",
    "\n",
    "print(\" Literature Data\")\n",
    "litData= pd.read_json('D:/Data/catalogLiterature.json')\n",
    "litData= preprocess(litData)"
   ]
  },
  {
   "cell_type": "markdown",
   "metadata": {},
   "source": [
    "### Step 2: Exploratory Analysis.\n",
    "\n",
    "#### Following analysis are performed on each channel to gain more insights.\n",
    "1. Common words for each Channel. <br>\n",
    "2. Changes in the common words found by using additional data ( replies ). <br>\n",
    "3. Number of replies for each Channel. <br>\n",
    "4. Percentage of Anonymous authors for each Channel. \n"
   ]
  },
  {
   "cell_type": "markdown",
   "metadata": {},
   "source": [
    "##### 1. Common words for Each Channel.\n",
    "The common words for each channel are analysed in this step. For finding the common words, the comment text is analyzed. Stemming and lemmatization is applied to the comment text using the preprocessText() function. After the preprocessing, the comments are tokenized and nouns are extracted from the tokens. The common words are found from the nouns. Extracting nouns is an important step in this process becuase it ignores the irrelevant words like 'really','well','even','could', etc which are commonly used in a sentence. By analyzing only nouns from the comments, relevant words to the channel are found. <br>\n",
    "<br>\n",
    "20 most common words for each channel are visualized in the following plots. The applied method for finding common words have given good results. It can be seen that for Technology, relevant words like battery, power, gnu, performance, cpu, linux etc are found. Similarly, all the others channels also show relevant common words."
   ]
  },
  {
   "cell_type": "code",
   "execution_count": 10,
   "metadata": {},
   "outputs": [
    {
     "name": "stdout",
     "output_type": "stream",
     "text": [
      "Most common words for Technology\n",
      "['battery', 'power', 'gnu', 'jessica', 'anything', 'use', 'image', 'performance', 'years', 'software', 'models', 'time', 'point', 'shit', 'cpu', 'budget', 'something', 'support', 'get', 'linux']\n"
     ]
    },
    {
     "data": {
      "image/png": "[encoded data removed]",
      "text/plain": [
       "<Figure size 432x288 with 1 Axes>"
      ]
     },
     "metadata": {
      "needs_background": "light"
     },
     "output_type": "display_data"
    },
    {
     "name": "stdout",
     "output_type": "stream",
     "text": [
      "Most common words for TV & Film\n",
      "['movie', 'people', 'watch', 'kino', 'gon', 'scene', 'series', 'season', 'star', 'cinematography', 'directors', 'world', 'time', 'action', 'face', 'men', 'body', 'night', 'jimmy', 'balls']\n"
     ]
    },
    {
     "data": {
      "image/png": "[encoded data removed]",
      "text/plain": [
       "<Figure size 432x288 with 1 Axes>"
      ]
     },
     "metadata": {
      "needs_background": "light"
     },
     "output_type": "display_data"
    },
    {
     "name": "stdout",
     "output_type": "stream",
     "text": [
      "Most common words for Food & Cooking\n",
      "['food', 'sauce', 'place', 'sugar', 'use', 'hour', 'people', 'order', 'guys', 'tea', 'half', 'hours', 'family', 'beef', 'pizza', 'ingredients', 'dinner', 'lot', 'consistency', 'recipes']\n"
     ]
    },
    {
     "data": {
      "image/png": "[encoded data removed]",
      "text/plain": [
       "<Figure size 432x288 with 1 Axes>"
      ]
     },
     "metadata": {
      "needs_background": "light"
     },
     "output_type": "display_data"
    },
    {
     "name": "stdout",
     "output_type": "stream",
     "text": [
      "Most common words for Literature\n",
      "['book', 'reminder', 'time', 'books', 'blood', 'life', 'people', 'thoughts', 'literature', 'data', 'something', 'peace', 'gon', 'ideas', 'years', 'way', 'world', 'mages', 'war', 'pic']\n"
     ]
    },
    {
     "data": {
      "image/png": "[encoded data removed]",
      "text/plain": [
       "<Figure size 432x288 with 1 Axes>"
      ]
     },
     "metadata": {
      "needs_background": "light"
     },
     "output_type": "display_data"
    }
   ],
   "source": [
    "print(\"Most common words for Technology\")\n",
    "plotCommonWordsWithComments(techData)\n",
    "\n",
    "print(\"Most common words for TV & Film\")\n",
    "plotCommonWordsWithComments(tvData)\n",
    "\n",
    "print(\"Most common words for Food & Cooking\")\n",
    "plotCommonWordsWithComments(foodData)\n",
    "\n",
    "print(\"Most common words for Literature\")\n",
    "plotCommonWordsWithComments(litData)"
   ]
  },
  {
   "cell_type": "markdown",
   "metadata": {},
   "source": [
    "##### 2. Common words for each channel using additional information.\n",
    "In this section, the common words are analysed by adding more information. Here the additional information is the text from replies. It can be seen in the resultant graphs that the relevancy of the words for each channel increases on adding replies. We can deduce that the replies text contains relevant words to the channel. Hence to find most common/ relevant words to the channels, we must use text from comments along with text from replies."
   ]
  },
  {
   "cell_type": "code",
   "execution_count": 11,
   "metadata": {},
   "outputs": [
    {
     "name": "stdout",
     "output_type": "stream",
     "text": [
      "Most common words for Technology\n",
      "['software', 'people', 'use', 'time', 'something', 'data', 'anything', 'battery', 'years', 'power', 'get', 'point', 'way', 'code', 'performance', 'support', 'work', 'classes', 'hardware', 'everything']\n"
     ]
    },
    {
     "data": {
      "image/png": "[encoded data removed]",
      "text/plain": [
       "<Figure size 432x288 with 1 Axes>"
      ]
     },
     "metadata": {
      "needs_background": "light"
     },
     "output_type": "display_data"
    },
    {
     "name": "stdout",
     "output_type": "stream",
     "text": [
      "Most common words for TV & Film\n",
      "['movie', 'people', 'time', 'someone', 'film', 'something', 'face', 'movies', 'power', 'season', 'post', 'kino', 'everyone', 'thing', 'man', 'ass', 'guy', 'star', 'balls', 'life']\n"
     ]
    },
    {
     "data": {
      "image/png": "[encoded data removed]",
      "text/plain": [
       "<Figure size 432x288 with 1 Axes>"
      ]
     },
     "metadata": {
      "needs_background": "light"
     },
     "output_type": "display_data"
    },
    {
     "name": "stdout",
     "output_type": "stream",
     "text": [
      "Most common words for Food & Cooking\n",
      "['food', 'people', 'sauce', 'time', 'pizza', 'meat', 'day', 'eat', 'place', 'flavor', 'lot', 'sugar', 'thing', 'anything', 'way', 'use', 'nothing', 'guys', 'taste', 'beef']\n"
     ]
    },
    {
     "data": {
      "image/png": "[encoded data removed]",
      "text/plain": [
       "<Figure size 432x288 with 1 Axes>"
      ]
     },
     "metadata": {
      "needs_background": "light"
     },
     "output_type": "display_data"
    },
    {
     "name": "stdout",
     "output_type": "stream",
     "text": [
      "Most common words for Literature\n",
      "['book', 'people', 'time', 'books', 'life', 'something', 'anything', 'work', 'way', 'world', 'reminder', 'man', 'everything', 'day', 'thing', 'anon', 'things', 'literature', 'blood', 'thoughts']\n"
     ]
    },
    {
     "data": {
      "image/png": "[encoded data removed]",
      "text/plain": [
       "<Figure size 432x288 with 1 Axes>"
      ]
     },
     "metadata": {
      "needs_background": "light"
     },
     "output_type": "display_data"
    }
   ],
   "source": [
    "print(\"Most common words for Technology\")\n",
    "plotCommonWordsWithAllText(techData)\n",
    "\n",
    "print(\"Most common words for TV & Film\")\n",
    "plotCommonWordsWithAllText(tvData)\n",
    "\n",
    "print(\"Most common words for Food & Cooking\")\n",
    "plotCommonWordsWithAllText(foodData)\n",
    "\n",
    "print(\"Most common words for Literature\")\n",
    "plotCommonWordsWithAllText(litData)"
   ]
  },
  {
   "cell_type": "markdown",
   "metadata": {},
   "source": [
    "##### 3. Number of replies for each Channel.\n",
    "The number of replies per thread are analysed in this step. The following graphs show the distribution of replies per thread for each channel. It can be seen from the graphs that most of the threads have replies between 0 to 20. Only few threads have replies more than 80. The pattern of replies is similar for all the channels. Technology channel is the only channel which had around 2-3 threads which have 250 replies."
   ]
  },
  {
   "cell_type": "code",
   "execution_count": 12,
   "metadata": {},
   "outputs": [
    {
     "data": {
      "text/plain": [
       "Text(0, 0.5, 'Number of threads')"
      ]
     },
     "execution_count": 12,
     "metadata": {},
     "output_type": "execute_result"
    },
    {
     "data": {
      "image/png": "[encoded data removed]",
      "text/plain": [
       "<Figure size 432x288 with 1 Axes>"
      ]
     },
     "metadata": {
      "needs_background": "light"
     },
     "output_type": "display_data"
    },
    {
     "data": {
      "image/png": "[encoded data removed]",
      "text/plain": [
       "<Figure size 432x288 with 1 Axes>"
      ]
     },
     "metadata": {
      "needs_background": "light"
     },
     "output_type": "display_data"
    },
    {
     "data": {
      "image/png": "[encoded data removed]",
      "text/plain": [
       "<Figure size 432x288 with 1 Axes>"
      ]
     },
     "metadata": {
      "needs_background": "light"
     },
     "output_type": "display_data"
    },
    {
     "data": {
      "image/png": "[encoded data removed]",
      "text/plain": [
       "<Figure size 432x288 with 1 Axes>"
      ]
     },
     "metadata": {
      "needs_background": "light"
     },
     "output_type": "display_data"
    }
   ],
   "source": [
    "techData.hist(column='replies')\n",
    "plt.title(\"Histogram of Replies for Technology\")\n",
    "plt.xlabel(\"Number of Replies\")\n",
    "plt.ylabel(\"Number of threads\")\n",
    "\n",
    "tvData.hist(column='replies')\n",
    "plt.title(\"Histogram of Replies for TV \")\n",
    "plt.xlabel(\"Number of Replies\")\n",
    "plt.ylabel(\"Number of threads\")\n",
    "\n",
    "foodData.hist(column='replies')\n",
    "plt.title(\"Histogram of Replies for Food and Cooking \")\n",
    "plt.xlabel(\"Number of Replies\")\n",
    "plt.ylabel(\"Number of threads\")\n",
    "\n",
    "litData.hist(column='replies')\n",
    "plt.title(\"Histogram of Replies for Literature\")\n",
    "plt.xlabel(\"Number of Replies\")\n",
    "plt.ylabel(\"Number of threads\")\n"
   ]
  },
  {
   "cell_type": "markdown",
   "metadata": {},
   "source": [
    "##### 4. Percentage of Anonymous authors for each Channel\n",
    "The percentage of anonymous authors for each channel is analyzed in this step. For all the channels more than 90% authors are anonymous. "
   ]
  },
  {
   "cell_type": "code",
   "execution_count": 13,
   "metadata": {},
   "outputs": [
    {
     "name": "stdout",
     "output_type": "stream",
     "text": [
      "Percentage of Anonymous Users in Technology\n",
      "Anonymous                   98.0\n",
      "chr21328                     1.0\n",
      "HDD Read/Write questions     1.0\n",
      "Name: name, dtype: float64\n",
      "\n",
      "Percentage of Anonymous Users in Tv & Films\n",
      "Anonymous    100.0\n",
      "Name: name, dtype: float64\n",
      "\n",
      "Percentage of Anonymous Users in Food & Cooking\n",
      "Anonymous                      93.0\n",
      "New kid on block                3.0\n",
      "Me                              1.0\n",
      "ITS UP111                       1.0\n",
      "sloppy joe in a hot dog bun     1.0\n",
      "Anonmouse                       1.0\n",
      "Name: name, dtype: float64\n",
      " \n",
      "Percentage of Anonymous Users in Literature\n",
      "Anonymous    99.0\n",
      "Squeegee      1.0\n",
      "Name: name, dtype: float64\n"
     ]
    }
   ],
   "source": [
    "tvUsers= tvData['name'].value_counts(normalize=True) * 100\n",
    "techUsers= techData['name'].value_counts(normalize=True) * 100\n",
    "foodUsers= foodData['name'].value_counts(normalize=True) * 100\n",
    "litUsers= litData['name'].value_counts(normalize=True) * 100\n",
    "\n",
    "print(\"Percentage of Anonymous Users in Technology\")\n",
    "print(techUsers)\n",
    "\n",
    "print(\"\\nPercentage of Anonymous Users in Tv & Films\")\n",
    "print(tvUsers)\n",
    "\n",
    "print(\"\\nPercentage of Anonymous Users in Food & Cooking\")\n",
    "print(foodUsers)\n",
    "\n",
    "print(\" \\nPercentage of Anonymous Users in Literature\")\n",
    "print(litUsers)"
   ]
  },
  {
   "cell_type": "markdown",
   "metadata": {},
   "source": [
    "### Step 3: Discriminative Analysis.\n",
    "\n",
    "From the exploratory analysis, we can see that the common words can be used to differentiate between the Channels. \n",
    "\n",
    "Suppose we want to identify the channel for the following thread.\n",
    "1. T1 comment :  Data analysis is defined as a process of cleaning, transforming, and modeling data to discover useful information for business decision-making. <br>\n",
    "2. T2 comment: Healthy eating is about eating smart and enjoying your food.<br>\n",
    "\n",
    "As shown in exploratory analysis, following are the common words for each channel.<br>\n",
    "<br>\n",
    "Technology <br>\n",
    "['software', 'people', 'use', 'time', 'something', 'data', 'anything', 'battery', 'years', 'power', 'get', 'point', 'way', 'code', 'performance', 'support', 'work', 'classes', 'hardware', 'everything'] <br>\n",
    "<br>\n",
    "Food & Cooking <br>\n",
    "['food', 'people', 'sauce', 'time', 'pizza', 'meat', 'day', 'eat', 'place', 'flavor', 'lot', 'sugar', 'thing', 'anything', 'way', 'use', 'nothing', 'guys', 'taste', 'beef'] <br>\n",
    "<br>\n",
    "Literature<br>\n",
    "['book', 'people', 'time', 'books', 'life', 'something', 'anything', 'work', 'way', 'world', 'reminder', 'man', 'everything', 'day', 'thing', 'anon', 'things', 'literature', 'blood', 'thoughts']<br>\n",
    "<br>\n",
    "TV & Films<br>\n",
    "['movie', 'people', 'time', 'someone', 'film', 'something', 'face', 'movies', 'power', 'season', 'post', 'kino', 'everyone', 'thing', 'man', 'ass', 'guy', 'star', 'balls', 'life'] \n",
    "<br>\n",
    "\n",
    "T1 has most common words in Technology channel. The matched word is data.\n",
    "T2 has most common words in Food & Cooking channel. the matech words are eat and food.\n",
    "Hence T1 belongs to Technology channel and T2 belongs to Food & Cooking channel.\n",
    "\n",
    "In the above example, only 20 most common words are used for classification. Increasing the number of common words used can greatly improve the classification results. Care must be taken not to increase the number very high as this might result in same words belonging to multiple channels. The may result in overlapping of channels.\n",
    "\n",
    "<br>\n",
    "Note: Classification using multiple features can improve the classification results. For eg, country/state can be used as a feature for classification. If channel X is very popular in country Y and a thread is created in country Y, there is a high probablity that the thread belongs to the channel X. But the country feature can't solely be used as a feature for classification. It must be used along prominant features like 'common words'."
   ]
  },
  {
   "cell_type": "markdown",
   "metadata": {},
   "source": [
    "### Step 4: Modeling\n",
    "\n",
    "Bag of words model is used to classify the channels. Following steps are done: <br>\n",
    "1. Creating Dataset <br>\n",
    "2. Splitting train and test data <br>\n",
    "3. Create Feature vectors <br>\n",
    "4. Create random forest classifier and fit the forest to the training set, using the bag of words as features and the channel type as the response variable.<br>\n",
    "5. Calculate Accuracy<br>\n"
   ]
  },
  {
   "cell_type": "code",
   "execution_count": 14,
   "metadata": {},
   "outputs": [
    {
     "data": {
      "text/plain": [
       "(400, 2)"
      ]
     },
     "metadata": {},
     "output_type": "display_data"
    },
    {
     "data": {
      "text/html": [
       "<div>\n",
       "<style scoped>\n",
       "    .dataframe tbody tr th:only-of-type {\n",
       "        vertical-align: middle;\n",
       "    }\n",
       "\n",
       "    .dataframe tbody tr th {\n",
       "        vertical-align: top;\n",
       "    }\n",
       "\n",
       "    .dataframe thead th {\n",
       "        text-align: right;\n",
       "    }\n",
       "</style>\n",
       "<table border=\"1\" class=\"dataframe\">\n",
       "  <thead>\n",
       "    <tr style=\"text-align: right;\">\n",
       "      <th></th>\n",
       "      <th>com</th>\n",
       "      <th>type</th>\n",
       "    </tr>\n",
       "  </thead>\n",
       "  <tbody>\n",
       "    <tr>\n",
       "      <th>5</th>\n",
       "      <td>star wars</td>\n",
       "      <td>tv</td>\n",
       "    </tr>\n",
       "    <tr>\n",
       "      <th>4</th>\n",
       "      <td>gameboy chocolate cake</td>\n",
       "      <td>tv</td>\n",
       "    </tr>\n",
       "    <tr>\n",
       "      <th>9</th>\n",
       "      <td>cynical</td>\n",
       "      <td>tv</td>\n",
       "    </tr>\n",
       "    <tr>\n",
       "      <th>59</th>\n",
       "      <td>uncertain times</td>\n",
       "      <td>tv</td>\n",
       "    </tr>\n",
       "    <tr>\n",
       "      <th>68</th>\n",
       "      <td>people mean soul soulless</td>\n",
       "      <td>tv</td>\n",
       "    </tr>\n",
       "  </tbody>\n",
       "</table>\n",
       "</div>"
      ],
      "text/plain": [
       "                          com type\n",
       "5                   star wars   tv\n",
       "4      gameboy chocolate cake   tv\n",
       "9                     cynical   tv\n",
       "59            uncertain times   tv\n",
       "68  people mean soul soulless   tv"
      ]
     },
     "metadata": {},
     "output_type": "display_data"
    }
   ],
   "source": [
    "from sklearn.feature_extraction.text import CountVectorizer\n",
    "\n",
    "# Create Dataset\n",
    "selected_columns = tvData[['com']]\n",
    "modelDataTv = selected_columns.copy()\n",
    "modelDataTv['type']= 'tv'\n",
    "\n",
    "selected_columns = techData[['com']]\n",
    "modelDataTech = selected_columns.copy()\n",
    "modelDataTech['type']= 'tech'\n",
    "\n",
    "selected_columns = foodData[['com']]\n",
    "modelDataFood = selected_columns.copy()\n",
    "modelDataFood['type']= 'food'\n",
    "\n",
    "selected_columns = litData[['com']]\n",
    "modelDataLit = selected_columns.copy()\n",
    "modelDataLit['type']= 'literature'\n",
    "\n",
    "modelData= modelDataTv.append(modelDataTech)\n",
    "modelData= modelData.append(modelDataFood)\n",
    "modelData= modelData.append(modelDataLit)\n",
    "display(modelData.shape)\n",
    "display(modelData.head(5))\n",
    " "
   ]
  },
  {
   "cell_type": "code",
   "execution_count": 15,
   "metadata": {},
   "outputs": [
    {
     "name": "stdout",
     "output_type": "stream",
     "text": [
      "(400, 3259)\n"
     ]
    }
   ],
   "source": [
    "from sklearn.feature_extraction.text import CountVectorizer\n",
    "\n",
    "# Initialize the \"CountVectorizer\" object, which is scikit-learn's bag of words tool.  \n",
    "vectorizer = CountVectorizer(analyzer = \"word\",   \\\n",
    "                             tokenizer = None,    \\\n",
    "                             preprocessor = None, \\\n",
    "                             stop_words = None,   \\\n",
    "                             max_features = 6000) \n",
    "\n",
    "train_data_features = vectorizer.fit_transform(modelData['com'])\n",
    "train_data_features = train_data_features.toarray()\n",
    "print (train_data_features.shape)"
   ]
  },
  {
   "cell_type": "code",
   "execution_count": 16,
   "metadata": {},
   "outputs": [
    {
     "name": "stdout",
     "output_type": "stream",
     "text": [
      "Splitting Done\n"
     ]
    }
   ],
   "source": [
    "from sklearn.model_selection import train_test_split\n",
    "\n",
    "#Split dataset into training and testing data\n",
    "x_train,x_test,y_train,y_test=train_test_split(train_data_features,modelData['type'],test_size=0.2,random_state=0)\n",
    "print(\"Splitting Done\")"
   ]
  },
  {
   "cell_type": "code",
   "execution_count": 17,
   "metadata": {},
   "outputs": [],
   "source": [
    "from sklearn.ensemble import RandomForestClassifier\n",
    "\n",
    "# Initialize a Random Forest classifier with 100 trees\n",
    "forest = RandomForestClassifier(n_estimators = 100) \n",
    "\n",
    "# Fit the forest to the training set, using the bag of words as features and the sentiment labels as the response variable\n",
    "forest = forest.fit(x_train, y_train )\n"
   ]
  },
  {
   "cell_type": "code",
   "execution_count": 18,
   "metadata": {},
   "outputs": [
    {
     "name": "stdout",
     "output_type": "stream",
     "text": [
      "Accuracy percentage\n",
      "55.00000000000001\n"
     ]
    }
   ],
   "source": [
    "from sklearn.metrics import accuracy_score,f1_score,confusion_matrix\n",
    "#checking accuracy score\n",
    "\n",
    "result = forest.predict(x_test)\n",
    "accuracy=accuracy_score(y_test,result)\n",
    "print(\"Accuracy percentage\")\n",
    "print(accuracy*100)\n"
   ]
  }
 ],
 "metadata": {
  "kernelspec": {
   "display_name": "Python 3",
   "language": "python",
   "name": "python3"
  },
  "language_info": {
   "codemirror_mode": {
    "name": "ipython",
    "version": 3
   },
   "file_extension": ".py",
   "mimetype": "text/x-python",
   "name": "python",
   "nbconvert_exporter": "python",
   "pygments_lexer": "ipython3",
   "version": "3.7.1"
  }
 },
 "nbformat": 4,
 "nbformat_minor": 2
}
